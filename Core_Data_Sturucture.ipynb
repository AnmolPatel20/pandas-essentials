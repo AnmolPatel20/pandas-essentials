{
 "cells": [
  {
   "cell_type": "code",
   "execution_count": 1,
   "id": "cfc916f7-5229-49e9-8af5-5e7f68d34444",
   "metadata": {},
   "outputs": [],
   "source": [
    "import pandas as pd"
   ]
  },
  {
   "cell_type": "code",
   "execution_count": 6,
   "id": "e12f47e8-37c0-4137-b2f0-5e8d368935a7",
   "metadata": {},
   "outputs": [],
   "source": [
    "s1 = pd.Series([71,84,23,65,96,48,45])"
   ]
  },
  {
   "cell_type": "code",
   "execution_count": 7,
   "id": "ada5baeb-a9ad-4669-a013-dbc87070fe5e",
   "metadata": {},
   "outputs": [
    {
     "data": {
      "text/plain": [
       "pandas.core.series.Series"
      ]
     },
     "execution_count": 7,
     "metadata": {},
     "output_type": "execute_result"
    }
   ],
   "source": [
    "type(s1)"
   ]
  },
  {
   "cell_type": "code",
   "execution_count": 8,
   "id": "7052b425-b9f1-48af-9540-274b6d137596",
   "metadata": {},
   "outputs": [
    {
     "name": "stdout",
     "output_type": "stream",
     "text": [
      "0    71\n",
      "1    84\n",
      "2    23\n",
      "3    65\n",
      "4    96\n",
      "5    48\n",
      "6    45\n",
      "dtype: int64\n"
     ]
    }
   ],
   "source": [
    "print(s1)"
   ]
  },
  {
   "cell_type": "code",
   "execution_count": 10,
   "id": "6f4b0ce8-8ea4-459a-ad8d-c5f56faa120a",
   "metadata": {},
   "outputs": [],
   "source": [
    "s2 = pd.Series([71,84,23,65,96,48,45] , index=[\"Anmol\" ,\"Dhruv\",\"Dev\" ,\"Rohan\",\"John\",\"don\",\"kon\"]) "
   ]
  },
  {
   "cell_type": "code",
   "execution_count": 12,
   "id": "af94e842-2558-4a80-bc4e-66defa49514c",
   "metadata": {},
   "outputs": [
    {
     "data": {
      "text/plain": [
       "71"
      ]
     },
     "execution_count": 12,
     "metadata": {},
     "output_type": "execute_result"
    }
   ],
   "source": [
    "s2[\"Anmol\"]"
   ]
  },
  {
   "cell_type": "code",
   "execution_count": 13,
   "id": "e875abc7-8a3c-4165-96cf-694455d307e1",
   "metadata": {},
   "outputs": [
    {
     "name": "stdout",
     "output_type": "stream",
     "text": [
      "      name  age       city\n",
      "0    Alice   25      Delhi\n",
      "1      Bob   30     Mumbai\n",
      "2  Charlie   35  Bangalore\n"
     ]
    }
   ],
   "source": [
    "data = {\n",
    "    \"name\": [\"Alice\", \"Bob\", \"Charlie\"],\n",
    "    \"age\": [25, 30, 35],\n",
    "    \"city\": [\"Delhi\", \"Mumbai\", \"Bangalore\"]\n",
    "}\n",
    "\n",
    "df = pd.DataFrame(data)\n",
    "print(df)"
   ]
  },
  {
   "cell_type": "code",
   "execution_count": 14,
   "id": "07490a4f-0f37-4065-8eb1-bd127d5fab08",
   "metadata": {},
   "outputs": [
    {
     "data": {
      "text/plain": [
       "RangeIndex(start=0, stop=3, step=1)"
      ]
     },
     "execution_count": 14,
     "metadata": {},
     "output_type": "execute_result"
    }
   ],
   "source": [
    "df.index"
   ]
  },
  {
   "cell_type": "code",
   "execution_count": 15,
   "id": "1df81d5d-6c73-4d9a-8fd5-0f34916a6867",
   "metadata": {},
   "outputs": [
    {
     "data": {
      "text/plain": [
       "Index(['name', 'age', 'city'], dtype='object')"
      ]
     },
     "execution_count": 15,
     "metadata": {},
     "output_type": "execute_result"
    }
   ],
   "source": [
    "df.columns"
   ]
  },
  {
   "cell_type": "code",
   "execution_count": null,
   "id": "03d0e8e0-1ea2-4524-b71b-69a3099129fc",
   "metadata": {},
   "outputs": [],
   "source": []
  }
 ],
 "metadata": {
  "kernelspec": {
   "display_name": "Python 3 (ipykernel)",
   "language": "python",
   "name": "python3"
  },
  "language_info": {
   "codemirror_mode": {
    "name": "ipython",
    "version": 3
   },
   "file_extension": ".py",
   "mimetype": "text/x-python",
   "name": "python",
   "nbconvert_exporter": "python",
   "pygments_lexer": "ipython3",
   "version": "3.12.7"
  }
 },
 "nbformat": 4,
 "nbformat_minor": 5
}
